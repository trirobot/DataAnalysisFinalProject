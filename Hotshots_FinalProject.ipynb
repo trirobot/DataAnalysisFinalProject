{
 "cells": [
  {
   "cell_type": "code",
   "execution_count": 1,
   "metadata": {},
   "outputs": [],
   "source": [
    "import numpy as np\n",
    "import pandas as pd\n",
    "import sqlite3"
   ]
  },
  {
   "cell_type": "markdown",
   "metadata": {},
   "source": [
    "The goal of this notebook is to import US wildfire data from https://www.kaggle.com/rtatman/188-million-us-wildfires and analyze if the wildfires of recent years are normal or abnormal.\n",
    "\n",
    "Plot the number of wildfires and the total acreage of wildfires over time\n",
    "Plot for California alone\n",
    "Plot for entire US\n",
    "\n",
    "Further Analysis\n",
    "Plot wildfires on US map"
   ]
  },
  {
   "cell_type": "code",
   "execution_count": 2,
   "metadata": {},
   "outputs": [],
   "source": [
    "# Import database and load into appropriate dataframes\n",
    "wf_data = sqlite3.connect(\"FPA_FOD_20170508.sqlite\")\n",
    "df = pd.read_sql_query(\"select OBJECTID,FOD_ID,FIRE_NAME,FIRE_YEAR,DISCOVERY_DATE,DISCOVERY_DOY,DISCOVERY_TIME,FIRE_SIZE,FIRE_SIZE_CLASS,LATITUDE,LONGITUDE,STATE,COUNTY from Fires\", \n",
    "                       wf_data) #remove limit for final evaluation"
   ]
  },
  {
   "cell_type": "code",
   "execution_count": 3,
   "metadata": {},
   "outputs": [],
   "source": [
    "# create separate dataframe for only california\n",
    "ca_df=df[df['STATE']=='CA']"
   ]
  },
  {
   "cell_type": "markdown",
   "metadata": {},
   "source": [
    "Two DataFrames created\n",
    "\n",
    "    df: data from all US fires\n",
    "    ca_df: data from all California fires\n",
    "    "
   ]
  },
  {
   "cell_type": "code",
   "execution_count": 4,
   "metadata": {},
   "outputs": [],
   "source": [
    "year_df = df.groupby('FIRE_YEAR')\n",
    "year_ca_df = ca_df.groupby('FIRE_YEAR')"
   ]
  },
  {
   "cell_type": "code",
   "execution_count": 5,
   "metadata": {
    "scrolled": true
   },
   "outputs": [
    {
     "data": {
      "text/plain": [
       "FIRE_YEAR\n",
       "1992     67975\n",
       "1993     61989\n",
       "1994     75955\n",
       "1995     71472\n",
       "1996     75574\n",
       "1997     61450\n",
       "1998     68370\n",
       "1999     89363\n",
       "2000     96416\n",
       "2001     86587\n",
       "2002     75656\n",
       "2003     68261\n",
       "2004     69279\n",
       "2005     88604\n",
       "2006    114004\n",
       "2007     95573\n",
       "2008     85378\n",
       "2009     78325\n",
       "2010     79889\n",
       "2011     90552\n",
       "2012     72769\n",
       "2013     64780\n",
       "2014     67753\n",
       "2015     74491\n",
       "Name: FOD_ID, dtype: int64"
      ]
     },
     "execution_count": 5,
     "metadata": {},
     "output_type": "execute_result"
    }
   ],
   "source": [
    "year_df.count()['FOD_ID']"
   ]
  },
  {
   "cell_type": "code",
   "execution_count": 6,
   "metadata": {},
   "outputs": [
    {
     "data": {
      "text/plain": [
       "FIRE_YEAR\n",
       "1992    10833\n",
       "1993     8270\n",
       "1994     8654\n",
       "1995     7381\n",
       "1996     9173\n",
       "1997     7930\n",
       "1998     6864\n",
       "1999     8910\n",
       "2000     6977\n",
       "2001     8182\n",
       "2002     7133\n",
       "2003     7913\n",
       "2004     7418\n",
       "2005     6678\n",
       "2006     8271\n",
       "2007    10151\n",
       "2008     7744\n",
       "2009     6940\n",
       "2010     5776\n",
       "2011     8562\n",
       "2012     7208\n",
       "2013     8723\n",
       "2014     6494\n",
       "2015     7365\n",
       "Name: FOD_ID, dtype: int64"
      ]
     },
     "execution_count": 6,
     "metadata": {},
     "output_type": "execute_result"
    }
   ],
   "source": [
    "year_ca_df.count()['FOD_ID']"
   ]
  },
  {
   "cell_type": "code",
   "execution_count": null,
   "metadata": {},
   "outputs": [],
   "source": []
  },
  {
   "cell_type": "code",
   "execution_count": null,
   "metadata": {},
   "outputs": [],
   "source": []
  }
 ],
 "metadata": {
  "kernelspec": {
   "display_name": "Python 3",
   "language": "python",
   "name": "python3"
  },
  "language_info": {
   "codemirror_mode": {
    "name": "ipython",
    "version": 3
   },
   "file_extension": ".py",
   "mimetype": "text/x-python",
   "name": "python",
   "nbconvert_exporter": "python",
   "pygments_lexer": "ipython3",
   "version": "3.7.3"
  }
 },
 "nbformat": 4,
 "nbformat_minor": 2
}
