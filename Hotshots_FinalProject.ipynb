{
 "cells": [
  {
   "cell_type": "code",
   "execution_count": null,
   "metadata": {},
   "outputs": [],
   "source": [
    "import numpy as np\n",
    "import pandas as pd\n",
    "import sqlite3\n",
    "import matplotlib.pyplot as plt\n",
    "import os\n",
    "import descartes #if this fails run conda install -c conda-forge descartes from cmd prompt\n",
    "import geopandas as gpd #if this fails run conda install geopandas from cmd prompt\n",
    "from shapely.geometry import Point, Polygon\n",
    "%matplotlib inline"
   ]
  },
  {
   "cell_type": "markdown",
   "metadata": {},
   "source": [
    "The goal of this notebook is to import US wildfire data from https://www.kaggle.com/rtatman/188-million-us-wildfires and analyze if the wildfires of recent years are normal or abnormal.\n",
    "\n",
    "Plot the number of wildfires and the total acreage of wildfires over time\n",
    "Plot for California alone\n",
    "Plot for entire US\n",
    "\n",
    "Further Analysis\n",
    "Plot wildfires on US map"
   ]
  },
  {
   "cell_type": "code",
   "execution_count": null,
   "metadata": {},
   "outputs": [],
   "source": [
    "# Import database and load into appropriate dataframes\n",
    "wf_data = sqlite3.connect(\"FPA_FOD_20170508.sqlite\")\n",
    "df = pd.read_sql_query(\"select OBJECTID,FOD_ID,FIRE_NAME,FIRE_YEAR,DISCOVERY_DATE,DISCOVERY_DOY,DISCOVERY_TIME,FIRE_SIZE,FIRE_SIZE_CLASS,LATITUDE,LONGITUDE,STATE,COUNTY from Fires\", \n",
    "                       wf_data) #remove limit for final evaluation"
   ]
  },
  {
   "cell_type": "code",
   "execution_count": null,
   "metadata": {},
   "outputs": [],
   "source": [
    "# create separate dataframe for only california\n",
    "ca_df=df[df['STATE']=='CA']"
   ]
  },
  {
   "cell_type": "markdown",
   "metadata": {},
   "source": [
    "<<< JOSH SECTION >>>"
   ]
  },
  {
   "cell_type": "markdown",
   "metadata": {},
   "source": [
    "Two DataFrames created\n",
    "\n",
    "    df: data from all US fires\n",
    "    ca_df: data from all California fires\n",
    "    \n",
    "Next Step: Get Fire size and count of fires into a new data frame grouped by year\n",
    "    "
   ]
  },
  {
   "cell_type": "code",
   "execution_count": null,
   "metadata": {
    "scrolled": true
   },
   "outputs": [],
   "source": [
    "year_df = df.groupby('FIRE_YEAR')['FIRE_SIZE'].agg(['sum','count'])\n",
    "year_ca_df = ca_df.groupby('FIRE_YEAR')['FIRE_SIZE'].agg(['sum','count'])\n"
   ]
  },
  {
   "cell_type": "code",
   "execution_count": null,
   "metadata": {},
   "outputs": [],
   "source": [
    "year_df.rename(columns={\"sum\": \"FIRE_ACRES\", \"count\": \"FIRE_COUNT\"}, inplace=True)\n",
    "year_ca_df.rename(columns={\"sum\": \"FIRE_ACRES\", \"count\": \"FIRE_COUNT\"}, inplace=True)"
   ]
  },
  {
   "cell_type": "code",
   "execution_count": null,
   "metadata": {},
   "outputs": [],
   "source": [
    "fig = plt.figure(figsize=(10,6)) # Create matplotlib figure\n",
    "\n",
    "ax = fig.add_subplot(111) # Create matplotlib axes\n",
    "ax2 = ax.twinx() # Create another axes that shares the same x-axis as ax.\n",
    "\n",
    "width = 0.4\n",
    "\n",
    "year_df.FIRE_ACRES.plot(kind='bar', color='red', ax=ax,position=0, alpha=0.5, width = 0.4)\n",
    "year_df.FIRE_COUNT.plot(kind='bar', color='orange', ax=ax2, position=1, alpha=0.5, width = 0.4)\n",
    "\n",
    "ax.set_ylabel('Acres')\n",
    "ax.legend(loc=0)\n",
    "ax2.set_ylabel('Count')\n",
    "ax2.legend(loc=(0.005,0.85))\n",
    "\n",
    "plt.show()"
   ]
  },
  {
   "cell_type": "code",
   "execution_count": null,
   "metadata": {},
   "outputs": [],
   "source": [
    "fig_ca = plt.figure(figsize=(10,6)) # Create matplotlib figure\n",
    "\n",
    "ax = fig_ca.add_subplot(111) # Create matplotlib axes\n",
    "ax2 = ax.twinx() # Create another axes that shares the same x-axis as ax.\n",
    "\n",
    "width = 0.4\n",
    "\n",
    "year_ca_df.FIRE_ACRES.plot(kind='bar', color='red', ax=ax, position=0, alpha=0.5, width = 0.4)\n",
    "year_ca_df.FIRE_COUNT.plot(kind='bar', color='orange', ax=ax2, alpha=0.5, position=1, width = 0.4)\n",
    "\n",
    "plt.plot()\n",
    "\n",
    "ax.set_ylabel('Acres')\n",
    "ax.legend(loc=(0.005,0.9))\n",
    "ax2.set_ylabel('Count')\n",
    "ax2.legend(loc=(0.005,0.85))\n",
    "\n",
    "plt.show()"
   ]
  },
  {
   "cell_type": "markdown",
   "metadata": {},
   "source": [
    "Initial Conclusion\n",
    "\n",
    "The count of fires appears to be flat over time, however the acreage burned is increasing\n",
    "\n",
    "In California, the same conclusion about count of fires appears true however the acreage burns appears to be cyclical and increasing significantly.\n",
    "\n",
    "Interesting next steps would be to correlate the spikes in acreage with specific events (weather, etc.)"
   ]
  },
  {
   "cell_type": "markdown",
   "metadata": {},
   "source": [
    "Next section will be to geographically map the points on a map"
   ]
  },
  {
   "cell_type": "code",
   "execution_count": null,
   "metadata": {},
   "outputs": [],
   "source": [
    "us_map = gpd.read_file('states.shp')"
   ]
  },
  {
   "cell_type": "code",
   "execution_count": null,
   "metadata": {},
   "outputs": [],
   "source": [
    "# create separate dataframe for only large fires\n",
    "large_df=df[df['FIRE_SIZE'] > 1000.0]\n",
    "geometry = [Point(xy) for xy in zip(large_df['LONGITUDE'], large_df['LATITUDE'])]\n",
    "gdf = gpd.GeoDataFrame(large_df, geometry=geometry)\n",
    "\n",
    "large_ca_df=ca_df[ca_df['FIRE_SIZE'] > 1000.0]\n",
    "geometry = [Point(xy) for xy in zip(large_ca_df['LONGITUDE'], large_ca_df['LATITUDE'])]\n",
    "ca_gdf = gpd.GeoDataFrame(large_ca_df, geometry=geometry)"
   ]
  },
  {
   "cell_type": "code",
   "execution_count": null,
   "metadata": {},
   "outputs": [],
   "source": [
    "for y in years:\n",
    "    y_df = large_ca_df[large_ca_df['FIRE_YEAR']==y]\n",
    "    geometry = [Point(xy) for xy in zip(y_df['LONGITUDE'], y_df['LATITUDE'])]\n",
    "    ca_gdf = gpd.GeoDataFrame(y_df, geometry=geometry)\n",
    "    ax = us_map[us_map.STATE_ABBR == \"CA\"].plot(figsize=(15,15), alpha=0.5)\n",
    "    ax.set_xlim(-126.0, -113.0)\n",
    "    ax.set_ylim(32.0, 43.0)\n",
    "    fig = ca_gdf.plot(ax=ax, marker='o', color='red', markersize=y_df['FIRE_SIZE']/10, alpha=0.75);\n",
    "    fig.axis('off')\n",
    "    fig.set_title('{} Fires > 1000 acres'.format(y))\n",
    "    filepath = os.path.join('./', 'ca_{}_fires.jpg'.format(y))\n",
    "    chart = fig.get_figure()\n",
    "    chart.savefig(filepath, dpi=300)"
   ]
  },
  {
   "cell_type": "markdown",
   "metadata": {},
   "source": [
    "<<< BHARAT SECTION >>> COUNTY PROCESSING"
   ]
  },
  {
   "cell_type": "code",
   "execution_count": null,
   "metadata": {},
   "outputs": [],
   "source": [
    "county_ca_df = ca_df.groupby('COUNTY')\n",
    "series_county_counts = county_ca_df.count()['FOD_ID']"
   ]
  },
  {
   "cell_type": "code",
   "execution_count": null,
   "metadata": {},
   "outputs": [],
   "source": [
    "series_county_counts.sort_values(ascending=True)"
   ]
  },
  {
   "cell_type": "code",
   "execution_count": null,
   "metadata": {},
   "outputs": [],
   "source": []
  }
 ],
 "metadata": {
  "kernelspec": {
   "display_name": "Python 3",
   "language": "python",
   "name": "python3"
  },
  "language_info": {
   "codemirror_mode": {
    "name": "ipython",
    "version": 3
   },
   "file_extension": ".py",
   "mimetype": "text/x-python",
   "name": "python",
   "nbconvert_exporter": "python",
   "pygments_lexer": "ipython3",
   "version": "3.7.3"
  }
 },
 "nbformat": 4,
 "nbformat_minor": 2
}
